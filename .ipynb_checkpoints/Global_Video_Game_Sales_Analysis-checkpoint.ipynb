{
 "cells": [
  {
   "cell_type": "markdown",
   "id": "e6eeb02a-8021-4c7d-b57c-a15075bca7d5",
   "metadata": {},
   "source": [
    "# Picking the Dataset\n",
    "- Dataset Name: Global Video Game Sales\n",
    "- Dataset Link: https://www.kaggle.com/datasets/gregorut/videogamesales"
   ]
  },
  {
   "cell_type": "markdown",
   "id": "f802d504-0a67-4d78-a49c-5f42913c5ed8",
   "metadata": {},
   "source": [
    "# Reason for picking this dataset\n",
    "This dataset encompasses over 16,000 video game records, detailing attributes such as game name, platform, release year, genre, publisher, and sales figures across various regions (North America, Europe, Japan, Others) along with global sales. I chose this dataset because it provides diverse features that make it ideal for both supervised and unsupervised learning. "
   ]
  },
  {
   "cell_type": "markdown",
   "id": "58769c94-7880-4a27-86e8-15e42aa68903",
   "metadata": {},
   "source": [
    "# Potential Problem Areas\n",
    "### Sales Prediction Problem\n",
    " - Objective: Predict global sales using game features.\n",
    " - Key Question: Can we forecast a game's commercial success based on its genre, platform, and release year?\n",
    "### Market Segmentation Problem\n",
    " - Objective: Cluster games into meaningful commercial categories.\n",
    " - Key Question: Do games naturally group into distinct sales patterns?\n",
    "### Feature Importance Problem\n",
    " - Objective: Identify which attributes most influence sales.\n",
    " - Key Question: Which features (genre, platform, or region) are strongest predictors of commercial success?\n",
    "### Temporal Trend Problem\n",
    " - Objective: Analyze how sales patterns evolve across gaming eras.\n",
    " - Key Question: Have certain genres or platforms become more/less profitable over time?"
   ]
  },
  {
   "cell_type": "markdown",
   "id": "90e123b2-d7b5-405f-9b9b-cab2bcda9c39",
   "metadata": {},
   "source": [
    "# Data Cleanup, Preprocessing, and Exploration\n",
    "### Data Cleaning and Preprocessing Steps\n",
    " - Handling missing values\n",
    " - Feature Engineering\n",
    " - Handling outliers\n",
    " - Normalizing numerical features for clustering\n",
    "### Exploratory Visualizations\n",
    " - Bar Plots\n",
    " - Line Chart\n",
    " - Boxplot\n",
    " - Heatmap\n",
    " - Histogram"
   ]
  },
  {
   "cell_type": "markdown",
   "id": "9f3c2bdc-8a9b-4115-b298-363c7b3295c0",
   "metadata": {},
   "source": [
    "# Model Selection\n",
    "### Sales Prediction (Regression Task)\n",
    " - Baseline Model: Linear Regressor\n",
    " - Advanced Model: KNeighborsRegressor\n",
    "\n",
    "### Game Segmentation (Clustering Task)\n",
    " - Baseline Model: K-Means Clustering\n",
    " - Advanced Model: DBSCAN"
   ]
  },
  {
   "cell_type": "markdown",
   "id": "10ac0394-12de-401f-8581-ba6c3b36bd5b",
   "metadata": {},
   "source": [
    "# Results and Discussion\n",
    " - Evaluation Metrics for regression models: Mean Square Error (MSE), Mean Absolute Error (MAE), and R-squared (r2) \n",
    " - Evaluation Metrics for clustering models: Silhouette Score, Davies-Bouldin, Calinski-Harabasz scores\n",
    " - Based on these scores and visualizations, we will try to determine the best performing model.\n"
   ]
  },
  {
   "cell_type": "code",
   "execution_count": null,
   "id": "a02b6a9d-651c-4856-8c95-4f488d79a21f",
   "metadata": {},
   "outputs": [],
   "source": []
  }
 ],
 "metadata": {
  "kernelspec": {
   "display_name": "Python [conda env:base] *",
   "language": "python",
   "name": "conda-base-py"
  },
  "language_info": {
   "codemirror_mode": {
    "name": "ipython",
    "version": 3
   },
   "file_extension": ".py",
   "mimetype": "text/x-python",
   "name": "python",
   "nbconvert_exporter": "python",
   "pygments_lexer": "ipython3",
   "version": "3.12.7"
  }
 },
 "nbformat": 4,
 "nbformat_minor": 5
}
