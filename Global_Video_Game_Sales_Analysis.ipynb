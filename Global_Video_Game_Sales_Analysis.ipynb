{
 "cells": [
  {
   "cell_type": "markdown",
   "id": "e6eeb02a-8021-4c7d-b57c-a15075bca7d5",
   "metadata": {},
   "source": [
    "# Picking the Dataset\n",
    "- Dataset Name: Global Video Game Sales\n",
    "- Dataset Link: https://www.kaggle.com/datasets/gregorut/videogamesales"
   ]
  },
  {
   "cell_type": "markdown",
   "id": "f802d504-0a67-4d78-a49c-5f42913c5ed8",
   "metadata": {},
   "source": [
    "# Reason for picking this dataset\n",
    "The Global Video Game Sales dataset presents a rich and diverse collection of over 16,000 video game records. It includes features such as game title, platform, genre, publisher, release year, and regional sales figures (NA, EU, JP, Others), culminating in global sales data. I selected this dataset because:\n",
    " - It offers a compelling real-world application: predicting commercial success in the gaming industry.\n",
    " - The structured, tabular format is ideal for performing regression analysis.\n",
    " - The mix of categorical and numerical features provides opportunities for feature engineering and deeper analysis.\n",
    " - It contains enough variety to explore temporal, categorical, and regional influences on sales."
   ]
  },
  {
   "cell_type": "markdown",
   "id": "58769c94-7880-4a27-86e8-15e42aa68903",
   "metadata": {},
   "source": [
    "# Potential Problem Areas\n",
    "### Sales Prediction Problem\n",
    " - Objective: Predict global sales using game features.\n",
    " - Key Question: Can we accurately estimate a game's commercial success using variables like genre, platform, publisher, and release year?\n",
    "### Feature Importance Problem\n",
    " - Objective: Determine which attributes have the strongest influence on global sales.\n",
    " - Key Question: Are certain genres or platforms significantly more predictive of success?\n",
    "### Temporal Trends Problem\n",
    " - Objective: Explore how sales vary over time.\n",
    " - Key Question: How has the commercial viability of certain game types changed across decades?\n",
    "### Region-Based Sales Patterns\n",
    " - Understand differences in regional performance\n",
    " - Key Question: Do sales patterns vary significantly across North America, Europe, Japan, and other regions? Are certain genres or platforms more popular in specific markets?"
   ]
  },
  {
   "cell_type": "markdown",
   "id": "90e123b2-d7b5-405f-9b9b-cab2bcda9c39",
   "metadata": {},
   "source": [
    "# Data Cleanup, Preprocessing, and Exploration\n",
    "### Data Cleaning and Preprocessing Steps\n",
    " - Handling missing values\n",
    " - Feature Engineering\n",
    " - Encoding Categorical Features\n",
    " - Detecting and Handling outliers\n",
    " - Normalizing or scaling numerical features as needed\n",
    "### Exploratory Visualizations\n",
    " - Distribution of Global Sales\n",
    " - Line Chart\n",
    " - Boxplots of Sales\n",
    " - Sales trend over the years"
   ]
  },
  {
   "cell_type": "markdown",
   "id": "9f3c2bdc-8a9b-4115-b298-363c7b3295c0",
   "metadata": {},
   "source": [
    "# Model Selection\n",
    "### Global Sales Prediction (Regression Task)\n",
    " - Baseline Model: Linear Regressor\n",
    " - Advanced Model: RandomForestRegressor\n"
   ]
  },
  {
   "cell_type": "markdown",
   "id": "10ac0394-12de-401f-8581-ba6c3b36bd5b",
   "metadata": {},
   "source": [
    "# Results and Discussion\n",
    " - Evaluation Metrics for regression models: Mean Square Error (MSE), Mean Absolute Error (MAE), and R-squared (r2)\n",
    " - Based on these scores and visualizations, we will try to determine the best performing model.\n"
   ]
  },
  {
   "cell_type": "markdown",
   "id": "e6e5e2bc-3bcc-4707-87d9-42fef1745f45",
   "metadata": {},
   "source": [
    "### Importing Required Libraries"
   ]
  },
  {
   "cell_type": "code",
   "execution_count": 7,
   "id": "f2d655f5-c2be-4776-99c2-d0cae362f67c",
   "metadata": {},
   "outputs": [],
   "source": [
    "import numpy as np\n",
    "import pandas as pd\n",
    "import matplotlib.pyplot as plt\n",
    "import seaborn as sns\n",
    "from sklearn.linear_model import LinearRegression\n",
    "from sklearn.model_selection import train_test_split\n",
    "from sklearn.metrics import mean_absolute_error, mean_squared_error, r2_score\n",
    "pd.set_option('display.max_columns', None)"
   ]
  },
  {
   "cell_type": "markdown",
   "id": "900dca9a-8d08-47d2-b71b-6b24daaacc06",
   "metadata": {},
   "source": [
    "### Loading the Dataset"
   ]
  },
  {
   "cell_type": "code",
   "execution_count": 10,
   "id": "04b04b6f-6185-45af-ab0a-37364b89abe6",
   "metadata": {},
   "outputs": [],
   "source": [
    "df = pd.read_csv('vgsales.csv')"
   ]
  },
  {
   "cell_type": "markdown",
   "id": "3900020e-90e8-4f8c-a234-1d0a25454fb2",
   "metadata": {},
   "source": [
    "### Previewing the first few rows"
   ]
  },
  {
   "cell_type": "code",
   "execution_count": 13,
   "id": "763df6f9-8276-40c4-94c2-7c5dc7907582",
   "metadata": {},
   "outputs": [
    {
     "data": {
      "text/html": [
       "<div>\n",
       "<style scoped>\n",
       "    .dataframe tbody tr th:only-of-type {\n",
       "        vertical-align: middle;\n",
       "    }\n",
       "\n",
       "    .dataframe tbody tr th {\n",
       "        vertical-align: top;\n",
       "    }\n",
       "\n",
       "    .dataframe thead th {\n",
       "        text-align: right;\n",
       "    }\n",
       "</style>\n",
       "<table border=\"1\" class=\"dataframe\">\n",
       "  <thead>\n",
       "    <tr style=\"text-align: right;\">\n",
       "      <th></th>\n",
       "      <th>Rank</th>\n",
       "      <th>Name</th>\n",
       "      <th>Platform</th>\n",
       "      <th>Year</th>\n",
       "      <th>Genre</th>\n",
       "      <th>Publisher</th>\n",
       "      <th>NA_Sales</th>\n",
       "      <th>EU_Sales</th>\n",
       "      <th>JP_Sales</th>\n",
       "      <th>Other_Sales</th>\n",
       "      <th>Global_Sales</th>\n",
       "    </tr>\n",
       "  </thead>\n",
       "  <tbody>\n",
       "    <tr>\n",
       "      <th>0</th>\n",
       "      <td>1</td>\n",
       "      <td>Wii Sports</td>\n",
       "      <td>Wii</td>\n",
       "      <td>2006.0</td>\n",
       "      <td>Sports</td>\n",
       "      <td>Nintendo</td>\n",
       "      <td>41.49</td>\n",
       "      <td>29.02</td>\n",
       "      <td>3.77</td>\n",
       "      <td>8.46</td>\n",
       "      <td>82.74</td>\n",
       "    </tr>\n",
       "    <tr>\n",
       "      <th>1</th>\n",
       "      <td>2</td>\n",
       "      <td>Super Mario Bros.</td>\n",
       "      <td>NES</td>\n",
       "      <td>1985.0</td>\n",
       "      <td>Platform</td>\n",
       "      <td>Nintendo</td>\n",
       "      <td>29.08</td>\n",
       "      <td>3.58</td>\n",
       "      <td>6.81</td>\n",
       "      <td>0.77</td>\n",
       "      <td>40.24</td>\n",
       "    </tr>\n",
       "    <tr>\n",
       "      <th>2</th>\n",
       "      <td>3</td>\n",
       "      <td>Mario Kart Wii</td>\n",
       "      <td>Wii</td>\n",
       "      <td>2008.0</td>\n",
       "      <td>Racing</td>\n",
       "      <td>Nintendo</td>\n",
       "      <td>15.85</td>\n",
       "      <td>12.88</td>\n",
       "      <td>3.79</td>\n",
       "      <td>3.31</td>\n",
       "      <td>35.82</td>\n",
       "    </tr>\n",
       "    <tr>\n",
       "      <th>3</th>\n",
       "      <td>4</td>\n",
       "      <td>Wii Sports Resort</td>\n",
       "      <td>Wii</td>\n",
       "      <td>2009.0</td>\n",
       "      <td>Sports</td>\n",
       "      <td>Nintendo</td>\n",
       "      <td>15.75</td>\n",
       "      <td>11.01</td>\n",
       "      <td>3.28</td>\n",
       "      <td>2.96</td>\n",
       "      <td>33.00</td>\n",
       "    </tr>\n",
       "    <tr>\n",
       "      <th>4</th>\n",
       "      <td>5</td>\n",
       "      <td>Pokemon Red/Pokemon Blue</td>\n",
       "      <td>GB</td>\n",
       "      <td>1996.0</td>\n",
       "      <td>Role-Playing</td>\n",
       "      <td>Nintendo</td>\n",
       "      <td>11.27</td>\n",
       "      <td>8.89</td>\n",
       "      <td>10.22</td>\n",
       "      <td>1.00</td>\n",
       "      <td>31.37</td>\n",
       "    </tr>\n",
       "  </tbody>\n",
       "</table>\n",
       "</div>"
      ],
      "text/plain": [
       "   Rank                      Name Platform    Year         Genre Publisher  \\\n",
       "0     1                Wii Sports      Wii  2006.0        Sports  Nintendo   \n",
       "1     2         Super Mario Bros.      NES  1985.0      Platform  Nintendo   \n",
       "2     3            Mario Kart Wii      Wii  2008.0        Racing  Nintendo   \n",
       "3     4         Wii Sports Resort      Wii  2009.0        Sports  Nintendo   \n",
       "4     5  Pokemon Red/Pokemon Blue       GB  1996.0  Role-Playing  Nintendo   \n",
       "\n",
       "   NA_Sales  EU_Sales  JP_Sales  Other_Sales  Global_Sales  \n",
       "0     41.49     29.02      3.77         8.46         82.74  \n",
       "1     29.08      3.58      6.81         0.77         40.24  \n",
       "2     15.85     12.88      3.79         3.31         35.82  \n",
       "3     15.75     11.01      3.28         2.96         33.00  \n",
       "4     11.27      8.89     10.22         1.00         31.37  "
      ]
     },
     "execution_count": 13,
     "metadata": {},
     "output_type": "execute_result"
    }
   ],
   "source": [
    "df.head()"
   ]
  },
  {
   "cell_type": "markdown",
   "id": "09ab3ba5-f100-415b-afc4-b80201b71c47",
   "metadata": {},
   "source": [
    "### Dataset Dimensions"
   ]
  },
  {
   "cell_type": "code",
   "execution_count": 16,
   "id": "fbc67ecf-af82-4db1-95a1-5fcd54f2958b",
   "metadata": {},
   "outputs": [
    {
     "data": {
      "text/plain": [
       "(16598, 11)"
      ]
     },
     "execution_count": 16,
     "metadata": {},
     "output_type": "execute_result"
    }
   ],
   "source": [
    "df.shape"
   ]
  },
  {
   "cell_type": "markdown",
   "id": "03ca5a3b-8040-4b4c-b622-080a1cce0c30",
   "metadata": {},
   "source": [
    "### Listing Column names"
   ]
  },
  {
   "cell_type": "code",
   "execution_count": 19,
   "id": "7d92947f-e035-4334-89a6-987c204ec8ae",
   "metadata": {},
   "outputs": [
    {
     "data": {
      "text/plain": [
       "Index(['Rank', 'Name', 'Platform', 'Year', 'Genre', 'Publisher', 'NA_Sales',\n",
       "       'EU_Sales', 'JP_Sales', 'Other_Sales', 'Global_Sales'],\n",
       "      dtype='object')"
      ]
     },
     "execution_count": 19,
     "metadata": {},
     "output_type": "execute_result"
    }
   ],
   "source": [
    "df.columns"
   ]
  },
  {
   "cell_type": "markdown",
   "id": "88db22f5-51c1-4add-be8e-81cab9c41be4",
   "metadata": {},
   "source": [
    "### Dataset Info (Data Types and Nulls)"
   ]
  },
  {
   "cell_type": "code",
   "execution_count": 22,
   "id": "b45cc473-d98a-41b1-b96a-7a74a45f7b66",
   "metadata": {},
   "outputs": [
    {
     "name": "stdout",
     "output_type": "stream",
     "text": [
      "<class 'pandas.core.frame.DataFrame'>\n",
      "RangeIndex: 16598 entries, 0 to 16597\n",
      "Data columns (total 11 columns):\n",
      " #   Column        Non-Null Count  Dtype  \n",
      "---  ------        --------------  -----  \n",
      " 0   Rank          16598 non-null  int64  \n",
      " 1   Name          16598 non-null  object \n",
      " 2   Platform      16598 non-null  object \n",
      " 3   Year          16327 non-null  float64\n",
      " 4   Genre         16598 non-null  object \n",
      " 5   Publisher     16540 non-null  object \n",
      " 6   NA_Sales      16598 non-null  float64\n",
      " 7   EU_Sales      16598 non-null  float64\n",
      " 8   JP_Sales      16598 non-null  float64\n",
      " 9   Other_Sales   16598 non-null  float64\n",
      " 10  Global_Sales  16598 non-null  float64\n",
      "dtypes: float64(6), int64(1), object(4)\n",
      "memory usage: 1.4+ MB\n"
     ]
    }
   ],
   "source": [
    "df.info()"
   ]
  },
  {
   "cell_type": "markdown",
   "id": "bb040517-bf46-4b34-ad2a-3a976638df0b",
   "metadata": {},
   "source": [
    "### Checking Missing Values"
   ]
  },
  {
   "cell_type": "code",
   "execution_count": 25,
   "id": "b4c41933-84c3-402c-94a0-d8b38348d535",
   "metadata": {},
   "outputs": [
    {
     "data": {
      "text/plain": [
       "Rank              0\n",
       "Name              0\n",
       "Platform          0\n",
       "Year            271\n",
       "Genre             0\n",
       "Publisher        58\n",
       "NA_Sales          0\n",
       "EU_Sales          0\n",
       "JP_Sales          0\n",
       "Other_Sales       0\n",
       "Global_Sales      0\n",
       "dtype: int64"
      ]
     },
     "execution_count": 25,
     "metadata": {},
     "output_type": "execute_result"
    }
   ],
   "source": [
    "df.isnull().sum()"
   ]
  },
  {
   "cell_type": "markdown",
   "id": "01f5020f-df53-4955-96fe-1cd674f264b9",
   "metadata": {},
   "source": [
    "### Overview of missing values\n",
    "We previously found that the **Year** and **Publisher** columns contain missing values. Let’s inspect these further to decide how to handle them."
   ]
  },
  {
   "cell_type": "code",
   "execution_count": 29,
   "id": "09f96b6b-68ec-4ac9-aeb2-539d3897123b",
   "metadata": {},
   "outputs": [
    {
     "data": {
      "text/html": [
       "<div>\n",
       "<style scoped>\n",
       "    .dataframe tbody tr th:only-of-type {\n",
       "        vertical-align: middle;\n",
       "    }\n",
       "\n",
       "    .dataframe tbody tr th {\n",
       "        vertical-align: top;\n",
       "    }\n",
       "\n",
       "    .dataframe thead th {\n",
       "        text-align: right;\n",
       "    }\n",
       "</style>\n",
       "<table border=\"1\" class=\"dataframe\">\n",
       "  <thead>\n",
       "    <tr style=\"text-align: right;\">\n",
       "      <th></th>\n",
       "      <th>Rank</th>\n",
       "      <th>Name</th>\n",
       "      <th>Platform</th>\n",
       "      <th>Year</th>\n",
       "      <th>Genre</th>\n",
       "      <th>Publisher</th>\n",
       "      <th>NA_Sales</th>\n",
       "      <th>EU_Sales</th>\n",
       "      <th>JP_Sales</th>\n",
       "      <th>Other_Sales</th>\n",
       "      <th>Global_Sales</th>\n",
       "    </tr>\n",
       "  </thead>\n",
       "  <tbody>\n",
       "    <tr>\n",
       "      <th>179</th>\n",
       "      <td>180</td>\n",
       "      <td>Madden NFL 2004</td>\n",
       "      <td>PS2</td>\n",
       "      <td>NaN</td>\n",
       "      <td>Sports</td>\n",
       "      <td>Electronic Arts</td>\n",
       "      <td>4.26</td>\n",
       "      <td>0.26</td>\n",
       "      <td>0.01</td>\n",
       "      <td>0.71</td>\n",
       "      <td>5.23</td>\n",
       "    </tr>\n",
       "    <tr>\n",
       "      <th>377</th>\n",
       "      <td>378</td>\n",
       "      <td>FIFA Soccer 2004</td>\n",
       "      <td>PS2</td>\n",
       "      <td>NaN</td>\n",
       "      <td>Sports</td>\n",
       "      <td>Electronic Arts</td>\n",
       "      <td>0.59</td>\n",
       "      <td>2.36</td>\n",
       "      <td>0.04</td>\n",
       "      <td>0.51</td>\n",
       "      <td>3.49</td>\n",
       "    </tr>\n",
       "    <tr>\n",
       "      <th>431</th>\n",
       "      <td>432</td>\n",
       "      <td>LEGO Batman: The Videogame</td>\n",
       "      <td>Wii</td>\n",
       "      <td>NaN</td>\n",
       "      <td>Action</td>\n",
       "      <td>Warner Bros. Interactive Entertainment</td>\n",
       "      <td>1.86</td>\n",
       "      <td>1.02</td>\n",
       "      <td>0.00</td>\n",
       "      <td>0.29</td>\n",
       "      <td>3.17</td>\n",
       "    </tr>\n",
       "    <tr>\n",
       "      <th>470</th>\n",
       "      <td>471</td>\n",
       "      <td>wwe Smackdown vs. Raw 2006</td>\n",
       "      <td>PS2</td>\n",
       "      <td>NaN</td>\n",
       "      <td>Fighting</td>\n",
       "      <td>NaN</td>\n",
       "      <td>1.57</td>\n",
       "      <td>1.02</td>\n",
       "      <td>0.00</td>\n",
       "      <td>0.41</td>\n",
       "      <td>3.00</td>\n",
       "    </tr>\n",
       "    <tr>\n",
       "      <th>607</th>\n",
       "      <td>608</td>\n",
       "      <td>Space Invaders</td>\n",
       "      <td>2600</td>\n",
       "      <td>NaN</td>\n",
       "      <td>Shooter</td>\n",
       "      <td>Atari</td>\n",
       "      <td>2.36</td>\n",
       "      <td>0.14</td>\n",
       "      <td>0.00</td>\n",
       "      <td>0.03</td>\n",
       "      <td>2.53</td>\n",
       "    </tr>\n",
       "  </tbody>\n",
       "</table>\n",
       "</div>"
      ],
      "text/plain": [
       "     Rank                        Name Platform  Year     Genre  \\\n",
       "179   180             Madden NFL 2004      PS2   NaN    Sports   \n",
       "377   378            FIFA Soccer 2004      PS2   NaN    Sports   \n",
       "431   432  LEGO Batman: The Videogame      Wii   NaN    Action   \n",
       "470   471  wwe Smackdown vs. Raw 2006      PS2   NaN  Fighting   \n",
       "607   608              Space Invaders     2600   NaN   Shooter   \n",
       "\n",
       "                                  Publisher  NA_Sales  EU_Sales  JP_Sales  \\\n",
       "179                         Electronic Arts      4.26      0.26      0.01   \n",
       "377                         Electronic Arts      0.59      2.36      0.04   \n",
       "431  Warner Bros. Interactive Entertainment      1.86      1.02      0.00   \n",
       "470                                     NaN      1.57      1.02      0.00   \n",
       "607                                   Atari      2.36      0.14      0.00   \n",
       "\n",
       "     Other_Sales  Global_Sales  \n",
       "179         0.71          5.23  \n",
       "377         0.51          3.49  \n",
       "431         0.29          3.17  \n",
       "470         0.41          3.00  \n",
       "607         0.03          2.53  "
      ]
     },
     "execution_count": 29,
     "metadata": {},
     "output_type": "execute_result"
    }
   ],
   "source": [
    "df[df['Year'].isnull()].head()"
   ]
  },
  {
   "cell_type": "markdown",
   "id": "f32fb451-78a7-48cc-8a85-ed5e8d768555",
   "metadata": {},
   "source": [
    "Let’s take a look at some records where the **Publisher** value is missing to assess how to handle them."
   ]
  },
  {
   "cell_type": "code",
   "execution_count": 32,
   "id": "078a805c-4eea-447b-a81e-dfb78677d2d7",
   "metadata": {},
   "outputs": [
    {
     "data": {
      "text/html": [
       "<div>\n",
       "<style scoped>\n",
       "    .dataframe tbody tr th:only-of-type {\n",
       "        vertical-align: middle;\n",
       "    }\n",
       "\n",
       "    .dataframe tbody tr th {\n",
       "        vertical-align: top;\n",
       "    }\n",
       "\n",
       "    .dataframe thead th {\n",
       "        text-align: right;\n",
       "    }\n",
       "</style>\n",
       "<table border=\"1\" class=\"dataframe\">\n",
       "  <thead>\n",
       "    <tr style=\"text-align: right;\">\n",
       "      <th></th>\n",
       "      <th>Rank</th>\n",
       "      <th>Name</th>\n",
       "      <th>Platform</th>\n",
       "      <th>Year</th>\n",
       "      <th>Genre</th>\n",
       "      <th>Publisher</th>\n",
       "      <th>NA_Sales</th>\n",
       "      <th>EU_Sales</th>\n",
       "      <th>JP_Sales</th>\n",
       "      <th>Other_Sales</th>\n",
       "      <th>Global_Sales</th>\n",
       "    </tr>\n",
       "  </thead>\n",
       "  <tbody>\n",
       "    <tr>\n",
       "      <th>470</th>\n",
       "      <td>471</td>\n",
       "      <td>wwe Smackdown vs. Raw 2006</td>\n",
       "      <td>PS2</td>\n",
       "      <td>NaN</td>\n",
       "      <td>Fighting</td>\n",
       "      <td>NaN</td>\n",
       "      <td>1.57</td>\n",
       "      <td>1.02</td>\n",
       "      <td>0.0</td>\n",
       "      <td>0.41</td>\n",
       "      <td>3.00</td>\n",
       "    </tr>\n",
       "    <tr>\n",
       "      <th>1303</th>\n",
       "      <td>1305</td>\n",
       "      <td>Triple Play 99</td>\n",
       "      <td>PS</td>\n",
       "      <td>NaN</td>\n",
       "      <td>Sports</td>\n",
       "      <td>NaN</td>\n",
       "      <td>0.81</td>\n",
       "      <td>0.55</td>\n",
       "      <td>0.0</td>\n",
       "      <td>0.10</td>\n",
       "      <td>1.46</td>\n",
       "    </tr>\n",
       "    <tr>\n",
       "      <th>1662</th>\n",
       "      <td>1664</td>\n",
       "      <td>Shrek / Shrek 2 2-in-1 Gameboy Advance Video</td>\n",
       "      <td>GBA</td>\n",
       "      <td>2007.0</td>\n",
       "      <td>Misc</td>\n",
       "      <td>NaN</td>\n",
       "      <td>0.87</td>\n",
       "      <td>0.32</td>\n",
       "      <td>0.0</td>\n",
       "      <td>0.02</td>\n",
       "      <td>1.21</td>\n",
       "    </tr>\n",
       "    <tr>\n",
       "      <th>2222</th>\n",
       "      <td>2224</td>\n",
       "      <td>Bentley's Hackpack</td>\n",
       "      <td>GBA</td>\n",
       "      <td>2005.0</td>\n",
       "      <td>Misc</td>\n",
       "      <td>NaN</td>\n",
       "      <td>0.67</td>\n",
       "      <td>0.25</td>\n",
       "      <td>0.0</td>\n",
       "      <td>0.02</td>\n",
       "      <td>0.93</td>\n",
       "    </tr>\n",
       "    <tr>\n",
       "      <th>3159</th>\n",
       "      <td>3161</td>\n",
       "      <td>Nicktoons Collection: Game Boy Advance Video V...</td>\n",
       "      <td>GBA</td>\n",
       "      <td>2004.0</td>\n",
       "      <td>Misc</td>\n",
       "      <td>NaN</td>\n",
       "      <td>0.46</td>\n",
       "      <td>0.17</td>\n",
       "      <td>0.0</td>\n",
       "      <td>0.01</td>\n",
       "      <td>0.64</td>\n",
       "    </tr>\n",
       "  </tbody>\n",
       "</table>\n",
       "</div>"
      ],
      "text/plain": [
       "      Rank                                               Name Platform  \\\n",
       "470    471                         wwe Smackdown vs. Raw 2006      PS2   \n",
       "1303  1305                                     Triple Play 99       PS   \n",
       "1662  1664       Shrek / Shrek 2 2-in-1 Gameboy Advance Video      GBA   \n",
       "2222  2224                                 Bentley's Hackpack      GBA   \n",
       "3159  3161  Nicktoons Collection: Game Boy Advance Video V...      GBA   \n",
       "\n",
       "        Year     Genre Publisher  NA_Sales  EU_Sales  JP_Sales  Other_Sales  \\\n",
       "470      NaN  Fighting       NaN      1.57      1.02       0.0         0.41   \n",
       "1303     NaN    Sports       NaN      0.81      0.55       0.0         0.10   \n",
       "1662  2007.0      Misc       NaN      0.87      0.32       0.0         0.02   \n",
       "2222  2005.0      Misc       NaN      0.67      0.25       0.0         0.02   \n",
       "3159  2004.0      Misc       NaN      0.46      0.17       0.0         0.01   \n",
       "\n",
       "      Global_Sales  \n",
       "470           3.00  \n",
       "1303          1.46  \n",
       "1662          1.21  \n",
       "2222          0.93  \n",
       "3159          0.64  "
      ]
     },
     "execution_count": 32,
     "metadata": {},
     "output_type": "execute_result"
    }
   ],
   "source": [
    "df[df['Publisher'].isnull()].head()"
   ]
  },
  {
   "cell_type": "markdown",
   "id": "57f019b8-0155-40b5-a125-4bd474ba0c11",
   "metadata": {},
   "source": [
    "### Imputing missing values"
   ]
  },
  {
   "cell_type": "code",
   "execution_count": 35,
   "id": "e3b7a7da-a0c2-48fb-b3da-0c9aaf3c7b80",
   "metadata": {},
   "outputs": [],
   "source": [
    "# Impute missing values in 'Year' with the median year\n",
    "df['Year'] = df['Year'].fillna(df['Year'].median())"
   ]
  },
  {
   "cell_type": "code",
   "execution_count": 37,
   "id": "c6a4653b-3e95-48fa-b5ac-01f84f99106d",
   "metadata": {},
   "outputs": [],
   "source": [
    "# Impute missing values in 'Publisher' with the most frequent publisher\n",
    "df['Publisher'] = df['Publisher'].fillna(df['Publisher'].mode()[0])"
   ]
  },
  {
   "cell_type": "markdown",
   "id": "d474b97e-2aba-452d-adad-20e92323756b",
   "metadata": {},
   "source": [
    "### Final Null Check\n",
    "Double-check that no missing values remain in the dataset."
   ]
  },
  {
   "cell_type": "code",
   "execution_count": 41,
   "id": "81de7199-a509-44c0-8db4-f0402ce03dbb",
   "metadata": {},
   "outputs": [
    {
     "data": {
      "text/plain": [
       "Rank            0\n",
       "Name            0\n",
       "Platform        0\n",
       "Year            0\n",
       "Genre           0\n",
       "Publisher       0\n",
       "NA_Sales        0\n",
       "EU_Sales        0\n",
       "JP_Sales        0\n",
       "Other_Sales     0\n",
       "Global_Sales    0\n",
       "dtype: int64"
      ]
     },
     "execution_count": 41,
     "metadata": {},
     "output_type": "execute_result"
    }
   ],
   "source": [
    "df.isnull().sum()"
   ]
  },
  {
   "cell_type": "markdown",
   "id": "2d8f515c-fa47-4d84-8615-da5123fa6c76",
   "metadata": {},
   "source": [
    "As shown above, there are no missing values remaining in the dataset."
   ]
  },
  {
   "cell_type": "markdown",
   "id": "443ef117-5215-40ab-9fe1-edc3708caafc",
   "metadata": {},
   "source": [
    "### Converting **Year** to Integer"
   ]
  },
  {
   "cell_type": "code",
   "execution_count": 45,
   "id": "9748eaa1-24f3-4911-8d7e-3c614a8d5128",
   "metadata": {},
   "outputs": [],
   "source": [
    "df['Year'] = df['Year'].astype(int)"
   ]
  },
  {
   "cell_type": "markdown",
   "id": "c19c06b5-b746-4718-b1db-2c25f3504a5a",
   "metadata": {},
   "source": [
    "### Checking for Games with Zero Global Sales"
   ]
  },
  {
   "cell_type": "code",
   "execution_count": 48,
   "id": "866cd433-ad34-44a9-9fa1-f3fc265f4675",
   "metadata": {},
   "outputs": [
    {
     "data": {
      "text/plain": [
       "(0, 11)"
      ]
     },
     "execution_count": 48,
     "metadata": {},
     "output_type": "execute_result"
    }
   ],
   "source": [
    "df[df['Global_Sales'] == 0].shape"
   ]
  },
  {
   "cell_type": "markdown",
   "id": "7f4930f3-c6a6-4d80-82de-0737c7a2607a",
   "metadata": {},
   "source": [
    "No records in the dataset have **Global_Sales** equal to zero. This indicates that all games included have registered at least some commercial performance."
   ]
  },
  {
   "cell_type": "markdown",
   "id": "e3de4365-986b-4392-aacd-7c6f075e883f",
   "metadata": {},
   "source": [
    "### Inspecting Year Value Range"
   ]
  },
  {
   "cell_type": "markdown",
   "id": "fc4a2b76-3423-499e-8b2e-7f4ce611025b",
   "metadata": {},
   "source": [
    "We review the minimum and maximum values in the **Year** column to ensure they make sense historically. Any future dates or extremely old years may be worth investigating."
   ]
  },
  {
   "cell_type": "code",
   "execution_count": 55,
   "id": "c5470d0d-0a25-40a7-8dee-738948b51bff",
   "metadata": {},
   "outputs": [
    {
     "data": {
      "text/plain": [
       "(1980, 2020)"
      ]
     },
     "execution_count": 55,
     "metadata": {},
     "output_type": "execute_result"
    }
   ],
   "source": [
    "df['Year'].min(), df['Year'].max()"
   ]
  },
  {
   "cell_type": "markdown",
   "id": "1244311b-e6b5-48d1-b4d4-403cae5cdf75",
   "metadata": {},
   "source": [
    "The Year column contains values ranging from 1980 to 2020, which aligns well with the historical timeline of the video game industry."
   ]
  },
  {
   "cell_type": "code",
   "execution_count": null,
   "id": "6e134426-65d1-4205-bb6c-5aa1308243ff",
   "metadata": {},
   "outputs": [],
   "source": []
  }
 ],
 "metadata": {
  "kernelspec": {
   "display_name": "Python [conda env:base] *",
   "language": "python",
   "name": "conda-base-py"
  },
  "language_info": {
   "codemirror_mode": {
    "name": "ipython",
    "version": 3
   },
   "file_extension": ".py",
   "mimetype": "text/x-python",
   "name": "python",
   "nbconvert_exporter": "python",
   "pygments_lexer": "ipython3",
   "version": "3.12.7"
  }
 },
 "nbformat": 4,
 "nbformat_minor": 5
}
